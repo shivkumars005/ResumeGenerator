{
 "cells": [
  {
   "cell_type": "code",
   "execution_count": 1,
   "id": "17851995",
   "metadata": {},
   "outputs": [],
   "source": [
    "import langchain\n",
    "import os"
   ]
  },
  {
   "cell_type": "code",
   "execution_count": 2,
   "id": "33e76e3a",
   "metadata": {},
   "outputs": [
    {
     "data": {
      "text/plain": [
       "'0.3.26'"
      ]
     },
     "execution_count": 2,
     "metadata": {},
     "output_type": "execute_result"
    }
   ],
   "source": [
    "langchain.__version__"
   ]
  },
  {
   "cell_type": "code",
   "execution_count": 3,
   "id": "4d062627",
   "metadata": {},
   "outputs": [],
   "source": [
    "GROQ_API_KEY = os.getenv(\"GROQ_API_KEY\")"
   ]
  },
  {
   "cell_type": "code",
   "execution_count": 4,
   "id": "c99d3c97",
   "metadata": {},
   "outputs": [],
   "source": [
    "from langchain_core.prompts import PromptTemplate\n",
    "from groq import Groq\n",
    "client = Groq()"
   ]
  },
  {
   "cell_type": "code",
   "execution_count": 5,
   "id": "5cc63a00",
   "metadata": {},
   "outputs": [],
   "source": [
    "prompt_template = PromptTemplate(\n",
    "\n",
    "    input_variables=[\"user_description\"],\n",
    "    template=\"\"\"\n",
    "    Create a professional resume for a user based on the following information:\n",
    "\n",
    "    ### USER DESCRIPTION:\n",
    "    {user_description}\n",
    "\n",
    "    The resume should include the following sections:\n",
    "    - Personal Information\n",
    "    - Summary\n",
    "    - Education\n",
    "    - Work Experience\n",
    "    - Skills\n",
    "\n",
    "    The output should contain only the well-structured resume content in Markdown format, ready to be used in a professional context.\n",
    "    ### RESUME (NO PREAMBLE):\n",
    "\n",
    "    \"\"\",\n",
    ")\n"
   ]
  },
  {
   "cell_type": "code",
   "execution_count": 6,
   "id": "daa71732",
   "metadata": {},
   "outputs": [],
   "source": [
    "def generate_resume(prompt):\n",
    "    chat_completion = client.chat.completions.create(\n",
    "        messages=[\n",
    "            {\n",
    "                \"role\": \"system\",\n",
    "                \"content\": \"You are a helpful assistant.\"\n",
    "            },\n",
    "            {\n",
    "                \"role\": \"user\",\n",
    "                \"content\": f\"{prompt_template} {prompt}\",\n",
    "            }\n",
    "        ],\n",
    "        model=\"llama-3.3-70b-versatile\"\n",
    "    )\n",
    "    return chat_completion.choices[0].message.content"
   ]
  },
  {
   "cell_type": "code",
   "execution_count": 7,
   "id": "990e4797",
   "metadata": {},
   "outputs": [],
   "source": [
    "prompt = \"John Doe is a software engineer with 5 years of experience in backend development. He graduated from MIT in Computer Science and has worked at Google and Amazon. His skills include Python, Java, Docker, and AWS.\""
   ]
  },
  {
   "cell_type": "code",
   "execution_count": 8,
   "id": "54f0e6f9",
   "metadata": {},
   "outputs": [
    {
     "name": "stdout",
     "output_type": "stream",
     "text": [
      "### RESUME\n",
      "\n",
      "#### Personal Information\n",
      "* Name: John Doe\n",
      "\n",
      "#### Summary\n",
      "Highly experienced software engineer with a strong background in backend development, possessing 5 years of experience in the field. Proven track record of working with top tech companies.\n",
      "\n",
      "#### Education\n",
      "* Bachelor's Degree in Computer Science, Massachusetts Institute of Technology (MIT)\n",
      "\n",
      "#### Work Experience\n",
      "* Software Engineer, Google\n",
      "* Software Engineer, Amazon\n",
      "\n",
      "#### Skills\n",
      "* Programming languages: Python, Java\n",
      "* Technologies: Docker, AWS\n"
     ]
    }
   ],
   "source": [
    "resume = generate_resume(prompt)\n",
    "print(resume)"
   ]
  },
  {
   "cell_type": "code",
   "execution_count": null,
   "id": "8ab53cdb",
   "metadata": {},
   "outputs": [],
   "source": []
  },
  {
   "cell_type": "code",
   "execution_count": null,
   "id": "2af854c4",
   "metadata": {},
   "outputs": [],
   "source": []
  },
  {
   "cell_type": "code",
   "execution_count": null,
   "id": "caef6827",
   "metadata": {},
   "outputs": [],
   "source": []
  }
 ],
 "metadata": {
  "kernelspec": {
   "display_name": "base",
   "language": "python",
   "name": "python3"
  },
  "language_info": {
   "codemirror_mode": {
    "name": "ipython",
    "version": 3
   },
   "file_extension": ".py",
   "mimetype": "text/x-python",
   "name": "python",
   "nbconvert_exporter": "python",
   "pygments_lexer": "ipython3",
   "version": "3.11.7"
  }
 },
 "nbformat": 4,
 "nbformat_minor": 5
}
